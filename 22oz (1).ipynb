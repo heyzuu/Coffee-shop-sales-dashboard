{
 "cells": [
  {
   "cell_type": "code",
   "execution_count": 1,
   "id": "e288dbdf-a33f-4a82-865a-d4d5d7175377",
   "metadata": {},
   "outputs": [
    {
     "name": "stderr",
     "output_type": "stream",
     "text": [
      "2024-12-04 23:24:59.801 WARNING streamlit.runtime.scriptrunner_utils.script_run_context: Thread 'MainThread': missing ScriptRunContext! This warning can be ignored when running in bare mode.\n",
      "2024-12-04 23:24:59.802 WARNING streamlit.runtime.scriptrunner_utils.script_run_context: Thread 'MainThread': missing ScriptRunContext! This warning can be ignored when running in bare mode.\n",
      "2024-12-04 23:24:59.803 WARNING streamlit.runtime.scriptrunner_utils.script_run_context: Thread 'MainThread': missing ScriptRunContext! This warning can be ignored when running in bare mode.\n",
      "2024-12-04 23:24:59.803 WARNING streamlit.runtime.scriptrunner_utils.script_run_context: Thread 'MainThread': missing ScriptRunContext! This warning can be ignored when running in bare mode.\n",
      "2024-12-04 23:24:59.833 WARNING streamlit.runtime.scriptrunner_utils.script_run_context: Thread 'MainThread': missing ScriptRunContext! This warning can be ignored when running in bare mode.\n",
      "2024-12-04 23:24:59.864 WARNING streamlit.runtime.scriptrunner_utils.script_run_context: Thread 'MainThread': missing ScriptRunContext! This warning can be ignored when running in bare mode.\n",
      "2024-12-04 23:25:00.213 \n",
      "  \u001b[33m\u001b[1mWarning:\u001b[0m to view this Streamlit app on a browser, run it with the following\n",
      "  command:\n",
      "\n",
      "    streamlit run C:\\Users\\shiroo cyle navalta\\AppData\\Local\\Programs\\Python\\Python313\\Lib\\site-packages\\ipykernel_launcher.py [ARGUMENTS]\n",
      "2024-12-04 23:25:00.214 Thread 'MainThread': missing ScriptRunContext! This warning can be ignored when running in bare mode.\n",
      "2024-12-04 23:25:00.215 Thread 'MainThread': missing ScriptRunContext! This warning can be ignored when running in bare mode.\n",
      "2024-12-04 23:25:00.218 Thread 'MainThread': missing ScriptRunContext! This warning can be ignored when running in bare mode.\n",
      "2024-12-04 23:25:00.219 Thread 'MainThread': missing ScriptRunContext! This warning can be ignored when running in bare mode.\n",
      "2024-12-04 23:25:00.220 Thread 'MainThread': missing ScriptRunContext! This warning can be ignored when running in bare mode.\n",
      "2024-12-04 23:25:00.223 Thread 'MainThread': missing ScriptRunContext! This warning can be ignored when running in bare mode.\n",
      "2024-12-04 23:25:00.224 Thread 'MainThread': missing ScriptRunContext! This warning can be ignored when running in bare mode.\n"
     ]
    }
   ],
   "source": [
    "import streamlit as st\n",
    "import pandas as pd\n",
    "import plotly.express as px\n",
    "from PIL import Image  # To handle image\n",
    "\n",
    "# Set the title of the app and customize the page layout\n",
    "st.set_page_config(page_title=\"Twin A Furniture\", layout=\"wide\")\n",
    "\n",
    "# Display Logo and Title\n",
    "col1, col2 = st.columns([1, 5])  # Create two columns for logo and title\n",
    "with col1:\n",
    "    # Replace 'logo.png' with the actual file path or URL of your logo image\n",
    "    logo = Image.open(\"22oz.jpg\")  # Adjust the path to your logo file\n",
    "    st.image(logo, width=150)  # Adjust logo size (resize to 150px width)\n",
    "with col2:\n",
    "    st.title(\"Twin A Furniture\")\n",
    "\n",
    "# Apply custom CSS for a black background and styled text\n",
    "page_bg_style = \"\"\"\n",
    "<style>\n",
    "    body {\n",
    "        background-color: black;\n",
    "        color: white;\n",
    "    }\n",
    "    .stMarkdown {\n",
    "        color: white;\n",
    "    }\n",
    "    .stDataFrame tbody tr {\n",
    "        background-color: #333;\n",
    "        color: white;\n",
    "    }\n",
    "    .stDataFrame thead {\n",
    "        background-color: #444;\n",
    "        color: white;\n",
    "    }\n",
    "    .card {\n",
    "        width: 180px;  /* Adjust width */\n",
    "        height: 120px;\n",
    "        background-color: #333333;\n",
    "        margin-right: 15px;  /* Add space between cards horizontally */\n",
    "        padding: 5px;\n",
    "        text-align: center;\n",
    "        border-radius: 8px;\n",
    "    }\n",
    "    .card .value {\n",
    "        font-size: 24px;\n",
    "        font-weight: bold;\n",
    "    }\n",
    "</style>\n",
    "\"\"\"\n",
    "st.markdown(page_bg_style, unsafe_allow_html=True)\n",
    "\n",
    "# Path to the uploaded file\n",
    "uploaded_file_path = \"/mnt/data/22oz data.xlsx\"\n",
    "\n",
    "# Process the uploaded file\n",
    "try:\n",
    "    # Read the uploaded file\n",
    "    df = pd.read_excel(uploaded_file_path)\n",
    "\n",
    "    # Display the uploaded file preview\n",
    "    st.subheader(\"Preview of Uploaded File\")\n",
    "    st.dataframe(df)\n",
    "\n",
    "    # Display Basic Statistics and Plot Chart in the same row\n",
    "    st.subheader(\"Basic Data Statistics\")\n",
    "    stats_col1, stats_col2 = st.columns([2, 3])  # Two columns for basic stats and plot chart\n",
    "    \n",
    "    with stats_col1:\n",
    "        st.write(df.describe())\n",
    "\n",
    "    with stats_col2:\n",
    "        # Plot a simple chart based on the data, for example, 'Total Sales' distribution\n",
    "        if 'Total' in df.columns:\n",
    "            fig = px.histogram(df, x='Total', title=\"Distribution of Total Sales\")\n",
    "            fig.update_layout(\n",
    "                plot_bgcolor=\"black\",\n",
    "                paper_bgcolor=\"black\",\n",
    "                font=dict(color=\"white\"),\n",
    "                title_font=dict(color=\"white\"),\n",
    "                xaxis_title_font=dict(color=\"white\"),\n",
    "                yaxis_title_font=dict(color=\"white\"),\n",
    "                xaxis_tickfont=dict(color=\"white\"),\n",
    "                yaxis_tickfont=dict(color=\"white\")\n",
    "            )\n",
    "            st.plotly_chart(fig, use_container_width=True)\n",
    "\n",
    "    # Continue with your cards and visualizations...\n",
    "    # [Rest of the code remains unchanged, using the same DataFrame `df` loaded above]\n",
    "    \n",
    "except Exception as e:\n",
    "    st.error(f\"Error loading file: {e}\")"
   ]
  },
  {
   "cell_type": "code",
   "execution_count": 2,
   "id": "7823f75e-ec22-4437-81b9-8c36173f9e36",
   "metadata": {},
   "outputs": [
    {
     "ename": "SyntaxError",
     "evalue": "invalid syntax (3355285781.py, line 1)",
     "output_type": "error",
     "traceback": [
      "\u001b[1;36m  Cell \u001b[1;32mIn[2], line 1\u001b[1;36m\u001b[0m\n\u001b[1;33m    streamlit run C:\\Users\\shiroo cyle navalta\\AppData\\Local\\Programs\\Python\\Python313\\Lib\\site-packages\\ipykernel_launcher.py\u001b[0m\n\u001b[1;37m              ^\u001b[0m\n\u001b[1;31mSyntaxError\u001b[0m\u001b[1;31m:\u001b[0m invalid syntax\n"
     ]
    }
   ],
   "source": [
    "streamlit run C:\\Users\\shiroo cyle navalta\\AppData\\Local\\Programs\\Python\\Python313\\Lib\\site-packages\\ipykernel_launcher.py"
   ]
  },
  {
   "cell_type": "code",
   "execution_count": null,
   "id": "fad81189-ae72-404d-a301-d7e0e0454bef",
   "metadata": {},
   "outputs": [],
   "source": []
  }
 ],
 "metadata": {
  "kernelspec": {
   "display_name": "Python 3 (ipykernel)",
   "language": "python",
   "name": "python3"
  },
  "language_info": {
   "codemirror_mode": {
    "name": "ipython",
    "version": 3
   },
   "file_extension": ".py",
   "mimetype": "text/x-python",
   "name": "python",
   "nbconvert_exporter": "python",
   "pygments_lexer": "ipython3",
   "version": "3.12.4"
  }
 },
 "nbformat": 4,
 "nbformat_minor": 5
}
